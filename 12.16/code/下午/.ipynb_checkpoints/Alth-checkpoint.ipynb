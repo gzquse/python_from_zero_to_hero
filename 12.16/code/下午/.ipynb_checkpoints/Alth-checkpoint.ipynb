{
 "cells": [
  {
   "cell_type": "code",
   "execution_count": 35,
   "metadata": {
    "collapsed": true,
    "run_control": {
     "frozen": false,
     "read_only": false
    }
   },
   "outputs": [],
   "source": [
    "%load_ext nbtutor"
   ]
  },
  {
   "cell_type": "markdown",
   "metadata": {
    "run_control": {
     "frozen": false,
     "read_only": false
    }
   },
   "source": [
    "## Sort"
   ]
  },
  {
   "cell_type": "markdown",
   "metadata": {
    "run_control": {
     "frozen": false,
     "read_only": false
    }
   },
   "source": [
    "### insert sort\n",
    "tips: put unsort number to sorted numbers, find the position"
   ]
  },
  {
   "cell_type": "code",
   "execution_count": 1,
   "metadata": {
    "collapsed": true,
    "run_control": {
     "frozen": false,
     "read_only": false
    }
   },
   "outputs": [],
   "source": [
    "def insert_sort(items):\n",
    "    for sort_inx in range(1,len(items)):\n",
    "        unsort_inx = sort_inx\n",
    "        while unsort_inx > 0 and items[unsort_inx-1] > items[unsort_inx]:\n",
    "            items[unsort_inx-1], items[unsort_inx] = items[unsort_inx], items[unsort_inx-1]\n",
    "            unsort_inx = unsort_inx-1\n"
   ]
  },
  {
   "cell_type": "code",
   "execution_count": 2,
   "metadata": {
    "collapsed": false,
    "run_control": {
     "frozen": false,
     "read_only": false
    }
   },
   "outputs": [],
   "source": [
    "to_sort=[3,4,56,8,6,567,5,100000,234]\n",
    "insert_sort(to_sort)"
   ]
  },
  {
   "cell_type": "code",
   "execution_count": 3,
   "metadata": {
    "collapsed": false,
    "run_control": {
     "frozen": false,
     "read_only": false
    }
   },
   "outputs": [
    {
     "name": "stdout",
     "output_type": "stream",
     "text": [
      "[3, 4, 5, 6, 8, 56, 234, 567, 100000]\n"
     ]
    }
   ],
   "source": [
    "print(to_sort)"
   ]
  },
  {
   "cell_type": "markdown",
   "metadata": {
    "run_control": {
     "frozen": false,
     "read_only": false
    }
   },
   "source": [
    "## buble sort\n",
    "tips: check from the end of list, swap postion due to neighbor"
   ]
  },
  {
   "cell_type": "code",
   "execution_count": 19,
   "metadata": {
    "collapsed": true,
    "run_control": {
     "frozen": false,
     "read_only": false
    }
   },
   "outputs": [],
   "source": [
    "def buble_sort(items):\n",
    "    for sort_inx in range(1,len(items)):\n",
    "        unsort_inx = len(items) -1\n",
    "        while unsort_inx > sort_inx:\n",
    "            if(items[unsort_inx-1] > items[unsort_inx] ):\n",
    "                items[unsort_inx-1], items[unsort_inx] = items[unsort_inx], items[unsort_inx-1]\n",
    "            unsort_inx = unsort_inx -1    "
   ]
  },
  {
   "cell_type": "code",
   "execution_count": 21,
   "metadata": {
    "collapsed": false,
    "run_control": {
     "frozen": false,
     "read_only": false
    },
    "scrolled": true
   },
   "outputs": [
    {
     "name": "stdout",
     "output_type": "stream",
     "text": [
      "[3, 4, 5, 8, 56, 234, 567, 1254, 100000]\n"
     ]
    }
   ],
   "source": [
    "to_sort=[3,4,56,8,1254,567,5,100000,234]\n",
    "buble_sort(to_sort)\n",
    "print(to_sort)"
   ]
  },
  {
   "cell_type": "markdown",
   "metadata": {
    "run_control": {
     "frozen": false,
     "read_only": false
    }
   },
   "source": [
    "## 冒泡+二分+递归分治"
   ]
  },
  {
   "cell_type": "code",
   "execution_count": 48,
   "metadata": {
    "collapsed": false,
    "run_control": {
     "frozen": false,
     "read_only": false
    }
   },
   "outputs": [
    {
     "name": "nbtutor",
     "output_type": "stream",
     "text": [
      "[3, 4, 5, 8, 56, 234, 567, 1254, 100000]\n"
     ]
    }
   ],
   "source": [
    "def partition(items,left,right):\n",
    "    pivot_item = items[left];\n",
    "\n",
    "    while(left < right):\n",
    "        while(left < right and items[right] >= pivot_item):\n",
    "            right =right-1\n",
    "\n",
    "        items[left] = items[right]\n",
    "        \n",
    "        while(left < right and items[left] < pivot_item):\n",
    "            left = left+1\n",
    "        items[right] = items[left]\n",
    "        \n",
    "    items[left] = pivot_item\n",
    "    \n",
    "    return left\n",
    "\n",
    "\n",
    "def quick_sort(items, left, right):\n",
    "    if(left >= right):\n",
    "        return \n",
    "    pivot_pos = partition(items, left, right)\n",
    "    quick_sort(items, left, pivot_pos-1)\n",
    "    quick_sort(items, pivot_pos+1, right)\n",
    "    \n",
    "def main_sort(items):\n",
    "    quick_sort(items, 0, len(items)-1)\n",
    "\n",
    "quick_to_sort=[3,4,56,8,1254,567,5,100000,234]\n",
    "quick_sort(quick_to_sort, 0, len(quick_to_sort)-1)\n",
    "print(quick_to_sort)"
   ]
  },
  {
   "cell_type": "code",
   "execution_count": 37,
   "metadata": {
    "collapsed": false,
    "run_control": {
     "frozen": false,
     "read_only": false
    }
   },
   "outputs": [
    {
     "name": "stdout",
     "output_type": "stream",
     "text": [
      "[3, 4, 5, 8, 56, 234, 567, 1254, 100000]\n"
     ]
    }
   ],
   "source": []
  },
  {
   "cell_type": "markdown",
   "metadata": {
    "run_control": {
     "frozen": false,
     "read_only": false
    }
   },
   "source": [
    "## Merge Sort"
   ]
  },
  {
   "cell_type": "code",
   "execution_count": null,
   "metadata": {
    "collapsed": true,
    "run_control": {
     "frozen": false,
     "read_only": false
    }
   },
   "outputs": [],
   "source": []
  }
 ],
 "metadata": {
  "celltoolbar": "Visualize",
  "kernelspec": {
   "display_name": "Python 3",
   "language": "python",
   "name": "python3"
  },
  "language_info": {
   "codemirror_mode": {
    "name": "ipython",
    "version": 3
   },
   "file_extension": ".py",
   "mimetype": "text/x-python",
   "name": "python",
   "nbconvert_exporter": "python",
   "pygments_lexer": "ipython3",
   "version": "3.6.0"
  }
 },
 "nbformat": 4,
 "nbformat_minor": 2
}
