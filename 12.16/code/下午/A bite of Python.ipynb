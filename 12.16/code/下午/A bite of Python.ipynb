{
 "cells": [
  {
   "cell_type": "markdown",
   "metadata": {},
   "source": [
    "<H1 align=\"center\"> 00 - A bite of Python </H1>"
   ]
  },
  {
   "cell_type": "markdown",
   "metadata": {},
   "source": [
    "<span style='font-size:1.3em; line-height:1.5em;'>In this class, we will teach you one of the best programming language in the world - Python. There are 6 chapters in this course, and each one of them would take you 3 - 6 hours depends on your learning ability and the depth you want to cover.<br/><br/>We break each chapter into roughly 10 small sessions, and each session focuses on 2 - 4 learning goals. The first session is always about showing you some interesting projects, so that you will have a basic idea on what you are going to learn. The last session is always a set of programming problems, and the only way to solve them is to synthesis all what you have learned. You could also skip the optional session if you don't have enough time. It would not influence your learning in the future.<br/><br/>For each session, we attached the learning goals at the end of each learning content (same for this file), so you could self-evaluate yourself after the instruction. All sessions come with a sample_code.py file where summarized all the code you should learn. Some sessions contain a Quiz file as the assignment. You should be able to finish the problem independently if you fully understand what we taught. Feel free to check the answer.py for the correct answer if you get stuck. Reading(Copying) others' code is always part of daily life as a programmer. But be aware, if you cannot finish the problem sets independently, it's a signal that you should review.<br/><br/>Great. Are you ready?<br/><br/>Below are some one-line Python code. Paste them on the learning platform. Check whether the platform runs correctly.<br/>"
   ]
  },
  {
   "cell_type": "code",
   "execution_count": 10,
   "metadata": {
    "nbgrader": {
     "grade": true,
     "grade_id": "heart",
     "locked": false,
     "solution": true
    }
   },
   "outputs": [
    {
     "name": "stdout",
     "output_type": "stream",
     "text": [
      "                                                            \n",
      "                                                            \n",
      "                                                            \n",
      "                yyyy!feyy           eyyyy!fey               \n",
      "            !feyyyy!feyyyy!fe   y!feyyyy!feyyyy!f           \n",
      "          y!feyyyy!feyyyy!feyyyy!feyyyy!feyyyy!feyy         \n",
      "         y!feyyyy!feyyyy!feyyyy!feyyyy!feyyyy!feyyyy        \n",
      "        y!feyyyy!feyyyy!feyyyy!feyyyy!feyyyy!feyyyy!f       \n",
      "        !feyyyy!feyyyy!feyyyy!feyyyy!feyyyy!feyyyy!fe       \n",
      "        feyyyy!feyyyy!feyyyy!feyyyy!feyyyy!feyyyy!fey       \n",
      "        eyyyy!feyyyy!feyyyy!feyyyy!feyyyy!feyyyy!feyy       \n",
      "        yyyy!feyyyy!feyyyy!feyyyy!feyyyy!feyyyy!feyyy       \n",
      "        yyy!feyyyy!feyyyy!feyyyy!feyyyy!feyyyy!feyyyy       \n",
      "         y!feyyyy!feyyyy!feyyyy!feyyyy!feyyyy!feyyyy        \n",
      "          feyyyy!feyyyy!feyyyy!feyyyy!feyyyy!feyyyy         \n",
      "          eyyyy!feyyyy!feyyyy!feyyyy!feyyyy!feyyyy!         \n",
      "            yy!feyyyy!feyyyy!feyyyy!feyyyy!feyyyy           \n",
      "             !feyyyy!feyyyy!feyyyy!feyyyy!feyyyy            \n",
      "              eyyyy!feyyyy!feyyyy!feyyyy!feyyyy             \n",
      "                yy!feyyyy!feyyyy!feyyyy!feyyy               \n",
      "                  feyyyy!feyyyy!feyyyy!feyy                 \n",
      "                    yyy!feyyyy!feyyyy!fey                   \n",
      "                       feyyyy!feyyyy!f                      \n",
      "                          yy!feyyyy                         \n",
      "                             eyy                            \n",
      "                              y                             \n",
      "                                                            \n",
      "                                                            \n",
      "                                                            \n",
      "                                                            \n"
     ]
    }
   ],
   "source": [
    "# This will print a heart shape on the screen\n",
    "print('\\n'.join\n",
    "      (\n",
    "          [''.join(\n",
    "              [\n",
    "                  ('feyyyy!'[(x-y)%7]\n",
    "                   if((x*0.05)**2+(y*0.1)**2 -1)**3-(x*0.05)**2*(y*0.1)**3<=0\n",
    "                   else' ')\n",
    "                  for x in range(-30,30)])\n",
    "           for y in range(15,-15,-1)]))"
   ]
  },
  {
   "cell_type": "code",
   "execution_count": 2,
   "metadata": {
    "nbgrader": {
     "grade": true,
     "grade_id": "table",
     "locked": false,
     "solution": true
    }
   },
   "outputs": [
    {
     "name": "stdout",
     "output_type": "stream",
     "text": [
      "1*1=1 \n",
      "1*2=2  2*2=4 \n",
      "1*3=3  2*3=6  3*3=9 \n",
      "1*4=4  2*4=8  3*4=12 4*4=16\n",
      "1*5=5  2*5=10 3*5=15 4*5=20 5*5=25\n",
      "1*6=6  2*6=12 3*6=18 4*6=24 5*6=30 6*6=36\n",
      "1*7=7  2*7=14 3*7=21 4*7=28 5*7=35 6*7=42 7*7=49\n",
      "1*8=8  2*8=16 3*8=24 4*8=32 5*8=40 6*8=48 7*8=56 8*8=64\n",
      "1*9=9  2*9=18 3*9=27 4*9=36 5*9=45 6*9=54 7*9=63 8*9=72 9*9=81\n"
     ]
    }
   ],
   "source": [
    "# This will print a multiplication table\n",
    "print '\\n'.join([' '.join(['%s*%s=%-2s' % (y,x,x*y) \n",
    "                           for y in range(1,x+1)])\n",
    "                                 for x in range(1,10)])"
   ]
  },
  {
   "cell_type": "markdown",
   "metadata": {},
   "source": [
    "### Check for Learning Goals ###"
   ]
  },
  {
   "cell_type": "markdown",
   "metadata": {},
   "source": [
    "<span style='font-size:1.3em; line-height:1.5em;'> 1. Know why to take this course, what will learn in this course, and how the course would be taught. <br/>2. Make sure the learning platform works.<br/>3. Get a basic understanding of what python could do. "
   ]
  }
 ],
 "metadata": {
  "anaconda-cloud": {},
  "celltoolbar": "Create Assignment",
  "kernelspec": {
   "display_name": "pytorch",
   "language": "python",
   "name": "pytorch"
  },
  "language_info": {
   "codemirror_mode": {
    "name": "ipython",
    "version": 3
   },
   "file_extension": ".py",
   "mimetype": "text/x-python",
   "name": "python",
   "nbconvert_exporter": "python",
   "pygments_lexer": "ipython3",
   "version": "3.8.12"
  }
 },
 "nbformat": 4,
 "nbformat_minor": 4
}
