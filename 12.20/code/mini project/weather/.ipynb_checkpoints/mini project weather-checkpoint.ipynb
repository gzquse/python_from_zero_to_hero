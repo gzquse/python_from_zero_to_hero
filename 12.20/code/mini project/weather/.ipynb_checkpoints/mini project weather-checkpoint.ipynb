{
 "cells": [
  {
   "cell_type": "markdown",
   "metadata": {
    "run_control": {
     "frozen": false,
     "read_only": false
    }
   },
   "source": [
    "## 所需要的package\n",
    "**json**<br/>\n",
    "Python Json library. 用来对于Json格式的处理<br/><br/>\n",
    "\n",
    "**requests**<br/>\n",
    "Python HTTP library. 用来做API调用<br/><br/>\n",
    "**pandas**<br/>\n",
    "Python data analysis library<br/><br/>\n",
    "**matplotlib**<br/>\n",
    "Python plotting library"
   ]
  },
  {
   "cell_type": "code",
   "execution_count": null,
   "metadata": {
    "collapsed": true,
    "run_control": {
     "frozen": false,
     "read_only": false
    }
   },
   "outputs": [],
   "source": [
    "import json\n",
    "import numpy as np\n",
    "import pandas as pd\n",
    "import requests\n",
    "import matplotlib.pyplot as plt\n",
    "%matplotlib inline"
   ]
  },
  {
   "cell_type": "markdown",
   "metadata": {},
   "source": [
    "## Load JSON from file\n",
    "Python has an in-built package called json that can help us handle JSON easily. But\n",
    "before we use any functions from json package we’ll have to import the package into\n",
    "our project. This can be done easily by calling import json at the beginning of\n",
    "weather_forecast.py ."
   ]
  },
  {
   "cell_type": "code",
   "execution_count": null,
   "metadata": {
    "collapsed": false
   },
   "outputs": [],
   "source": [
    "weather_file=open(\"sample.json\", encoding='utf-8')\n",
    "weather_data=json.load(weather_file)\n",
    "weather_file.close()"
   ]
  },
  {
   "cell_type": "code",
   "execution_count": null,
   "metadata": {
    "collapsed": false
   },
   "outputs": [],
   "source": [
    "print(weather_data)"
   ]
  },
  {
   "cell_type": "code",
   "execution_count": null,
   "metadata": {
    "collapsed": true
   },
   "outputs": [],
   "source": [
    "dark_url = \"https://api.darksky.net/forecast/%s/%s,%s?units=si\" % (\"62bf94de3c232f30f6f3ee5bb534c2f3\",\n",
    "                                                                   37.8267, -122.4233)\n"
   ]
  },
  {
   "cell_type": "code",
   "execution_count": null,
   "metadata": {
    "collapsed": false
   },
   "outputs": [],
   "source": [
    "dark_response = requests.get(dark_url)\n",
    "print(dark_response.text)"
   ]
  },
  {
   "cell_type": "code",
   "execution_count": null,
   "metadata": {
    "collapsed": false
   },
   "outputs": [],
   "source": [
    "dark_data=json.loads(dark_response.text)\n",
    "print(dark_data)"
   ]
  },
  {
   "cell_type": "code",
   "execution_count": null,
   "metadata": {
    "collapsed": false
   },
   "outputs": [],
   "source": [
    "print(dark_data[\"daily\"][\"data\"][0][\"temperatureMin\"])\n",
    "print(dark_data[\"daily\"][\"data\"][0][\"temperatureMax\"])\n",
    "print(dark_data[\"daily\"][\"data\"][0][\"humidity\"])\n",
    "print(dark_data[\"daily\"][\"data\"][0][\"summary\"])"
   ]
  },
  {
   "cell_type": "markdown",
   "metadata": {},
   "source": [
    "## 我们需要什么样操作？\n",
    "\n",
    "- STEP1: 取回数据 Extract\n",
    "- STEP2: 转换数据，提取所需要的信息， Transform\n",
    "- STEP3: 放入需要处理的数据结构, Load"
   ]
  },
  {
   "cell_type": "markdown",
   "metadata": {},
   "source": [
    "因此所需函数及输入输出\n",
    "```python\n",
    "def get_daily_data(remote=False)\n",
    "\n",
    "def request_data():\n",
    "    return json.loads(response.text)\n",
    "\n",
    "def daily_data_of_attributes(json_dict, attributes):\n",
    "    daily_attributes = {}\n",
    "    return daily_attributes\n",
    "```"
   ]
  },
  {
   "cell_type": "markdown",
   "metadata": {},
   "source": [
    "## 放在一起"
   ]
  },
  {
   "cell_type": "code",
   "execution_count": null,
   "metadata": {
    "collapsed": false,
    "run_control": {
     "frozen": false,
     "read_only": false
    }
   },
   "outputs": [],
   "source": [
    "def load_json_sample(path):\n",
    "    with open(path, encoding='utf-8') as json_file:\n",
    "        return json.load(json_file)"
   ]
  },
  {
   "cell_type": "code",
   "execution_count": null,
   "metadata": {
    "collapsed": true,
    "run_control": {
     "frozen": false,
     "read_only": false
    }
   },
   "outputs": [],
   "source": [
    "def daily_data_of_attributes(json_dict, attributes):\n",
    "    daily_attributes = {}\n",
    "    for attr in attributes:\n",
    "        daily_attributes[attr] = []\n",
    "    daily_data = json_dict[\"daily\"][\"data\"]\n",
    "    try:\n",
    "        for dict_data in daily_data:\n",
    "            for attr in attributes:\n",
    "                daily_attributes[attr].append(dict_data[attr])\n",
    "    except KeyError:\n",
    "        print(\"Key Not Found\")\n",
    "        return {}\n",
    "    return daily_attributes"
   ]
  },
  {
   "cell_type": "code",
   "execution_count": null,
   "metadata": {
    "collapsed": false,
    "run_control": {
     "frozen": false,
     "read_only": false
    }
   },
   "outputs": [],
   "source": [
    "def request_data():\n",
    "    # LA 37.8267,-122.4233 , beijing 39.904200, 116.407396\n",
    "    lat = 37.8267\n",
    "    long = -122.4233\n",
    "    api_key = \"62bf94de3c232f30f6f3ee5bb534c2f3\"\n",
    "    url = \"https://api.darksky.net/forecast/%s/%s,%s?units=si\" % (api_key, lat, long)\n",
    "    response = requests.get(url)\n",
    "    return json.loads(response.text)"
   ]
  },
  {
   "cell_type": "code",
   "execution_count": null,
   "metadata": {
    "collapsed": true,
    "run_control": {
     "frozen": false,
     "read_only": false
    }
   },
   "outputs": [],
   "source": [
    "def get_daily_data(remote=False):\n",
    "    if remote:\n",
    "        json_obj = request_data()\n",
    "    else:\n",
    "        json_obj = load_json_sample('sample.json')\n",
    "#    pretty_print_dict_of_list(json_obj)\n",
    "    attributes = ['temperatureMin', 'temperatureMax', 'humidity','summary']\n",
    "    daily_data = daily_data_of_attributes(json_obj, attributes)\n",
    "    return daily_data"
   ]
  },
  {
   "cell_type": "code",
   "execution_count": null,
   "metadata": {
    "collapsed": true,
    "run_control": {
     "frozen": false,
     "read_only": false
    }
   },
   "outputs": [],
   "source": [
    "def pretty_print_dict_of_list(d):\n",
    "    indent = 4\n",
    "    print(\"{\")\n",
    "    for k, l in d.items():\n",
    "        print(indent * \" \" + k + \": \", end=\"\")\n",
    "        print(l)\n",
    "    print(\"}\")"
   ]
  },
  {
   "cell_type": "code",
   "execution_count": null,
   "metadata": {
    "collapsed": false,
    "run_control": {
     "frozen": false,
     "read_only": false
    }
   },
   "outputs": [],
   "source": [
    "print(daily_data)"
   ]
  },
  {
   "cell_type": "code",
   "execution_count": null,
   "metadata": {
    "collapsed": false,
    "run_control": {
     "frozen": false,
     "read_only": false
    }
   },
   "outputs": [],
   "source": [
    "daily_data = get_daily_data(False)"
   ]
  },
  {
   "cell_type": "code",
   "execution_count": null,
   "metadata": {
    "collapsed": false,
    "run_control": {
     "frozen": false,
     "read_only": false
    }
   },
   "outputs": [],
   "source": [
    "pretty_print_dict_of_list(daily_data)"
   ]
  },
  {
   "cell_type": "code",
   "execution_count": null,
   "metadata": {
    "collapsed": false,
    "run_control": {
     "frozen": false,
     "read_only": false
    }
   },
   "outputs": [],
   "source": [
    "df = pd.DataFrame(daily_data)"
   ]
  },
  {
   "cell_type": "code",
   "execution_count": null,
   "metadata": {
    "collapsed": false,
    "run_control": {
     "frozen": false,
     "read_only": false
    }
   },
   "outputs": [],
   "source": [
    "df_temperature = df[[\"temperatureMin\", \"temperatureMax\"]]\n",
    "df_humidity = df[[\"humidity\"]]\n",
    "# Plot data\n",
    "plt.style.use('ggplot')\n",
    "_, axes = plt.subplots(nrows=2)\n",
    "df_temperature.plot(ax=axes[0])\n",
    "df_humidity.plot(ax=axes[1])\n",
    "plt.show()"
   ]
  },
  {
   "cell_type": "code",
   "execution_count": null,
   "metadata": {
    "collapsed": true
   },
   "outputs": [],
   "source": [
    "def next_week_weather():\n",
    "    daily_dark_data = get_daily_data(True)\n",
    "    df_dark = pd.DataFrame(daily_dark_data)\n",
    "    df_dark_temperature = df_dark[[\"temperatureMin\", \"temperatureMax\"]]\n",
    "    df_dark_humidity = df_dark[[\"humidity\"]]\n",
    "\n",
    "    # Plot data\n",
    "    plt.style.use('ggplot')\n",
    "    _, axes = plt.subplots(nrows=2)\n",
    "    df_dark_temperature.plot(ax=axes[0])\n",
    "    df_dark_humidity.plot(ax=axes[1])\n",
    "    plt.show()"
   ]
  },
  {
   "cell_type": "code",
   "execution_count": null,
   "metadata": {
    "collapsed": false
   },
   "outputs": [],
   "source": [
    "next_week_weather()"
   ]
  },
  {
   "cell_type": "code",
   "execution_count": null,
   "metadata": {
    "collapsed": true,
    "run_control": {
     "frozen": false,
     "read_only": false
    }
   },
   "outputs": [],
   "source": [
    "import subprocess"
   ]
  },
  {
   "cell_type": "code",
   "execution_count": null,
   "metadata": {
    "collapsed": true,
    "run_control": {
     "frozen": false,
     "read_only": false
    }
   },
   "outputs": [],
   "source": [
    "def say(text: str):\n",
    "    subprocess.call('say ' + text, shell=True)"
   ]
  },
  {
   "cell_type": "code",
   "execution_count": null,
   "metadata": {
    "collapsed": false,
    "run_control": {
     "frozen": false,
     "read_only": false
    }
   },
   "outputs": [],
   "source": [
    "say(\"负0.55\")"
   ]
  },
  {
   "cell_type": "code",
   "execution_count": null,
   "metadata": {
    "collapsed": false,
    "run_control": {
     "frozen": false,
     "read_only": false
    }
   },
   "outputs": [],
   "source": [
    "highest_temp = max(daily_data[\"temperatureMax\"])\n",
    "lowest_temp = min(daily_data[\"temperatureMin\"])\n",
    "report = \"下周最高温度 The highest temperature in the coming week will be \" \\\n",
    "    + str(highest_temp) + \" 度degrees, 最低温度 with the lowest of \" + str(lowest_temp) + \"度 degrees.\"\n",
    "say(report)"
   ]
  },
  {
   "cell_type": "code",
   "execution_count": null,
   "metadata": {
    "collapsed": true
   },
   "outputs": [],
   "source": []
  }
 ],
 "metadata": {
  "kernelspec": {
   "display_name": "Python 3",
   "language": "python",
   "name": "python3"
  },
  "language_info": {
   "codemirror_mode": {
    "name": "ipython",
    "version": 3
   },
   "file_extension": ".py",
   "mimetype": "text/x-python",
   "name": "python",
   "nbconvert_exporter": "python",
   "pygments_lexer": "ipython3",
   "version": "3.6.0"
  }
 },
 "nbformat": 4,
 "nbformat_minor": 2
}
